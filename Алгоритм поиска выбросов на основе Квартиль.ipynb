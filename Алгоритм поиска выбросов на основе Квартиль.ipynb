{
 "cells": [
  {
   "cell_type": "code",
   "execution_count": 1,
   "id": "89a12895",
   "metadata": {},
   "outputs": [],
   "source": [
    "# Значения, получаемые в итоге применения алгоритма Шовене, сильно зависят от значений среднего и отклонения.\n",
    "# Реализуем алгоритм, который находит выбросы без использования средних и отклонений.\n",
    "\n",
    "# В данном алгоритме происходит поиск выбросов в выборке на основе квартилей."
   ]
  },
  {
   "cell_type": "code",
   "execution_count": 2,
   "id": "2ceea09e",
   "metadata": {},
   "outputs": [],
   "source": [
    "import numpy as np"
   ]
  },
  {
   "cell_type": "code",
   "execution_count": 7,
   "id": "f11fd09a",
   "metadata": {},
   "outputs": [],
   "source": [
    "def find_anomaly(data, only_outlier=False):\n",
    "    data = np.array(data)\n",
    "    Q_25 = np.quantile(data, 0.25)\n",
    "    Q_75 = np.quantile(data, 0.75)\n",
    "    x_min = Q_25 - (Q_75 - Q_25) * 1.5\n",
    "    x_max = Q_75 + (Q_75 - Q_25) * 1.5\n",
    "    \n",
    "    if only_outlier: # Вернет только выбросы\n",
    "        return data[(data <= x_min) | (data >= x_max)]\n",
    "    \n",
    "    # возвращает данные бех выбросов\n",
    "    return data[(data > x_min) & (data < x_max)] "
   ]
  },
  {
   "cell_type": "markdown",
   "id": "911c4103",
   "metadata": {},
   "source": [
    "# Пример"
   ]
  },
  {
   "cell_type": "code",
   "execution_count": 9,
   "id": "20729ce4",
   "metadata": {},
   "outputs": [],
   "source": [
    "data = [1, 2 ,3, 3.3, 56, 2, -3, -4, 7, 5, 8, 22]"
   ]
  },
  {
   "cell_type": "code",
   "execution_count": 10,
   "id": "9f8b0a70",
   "metadata": {},
   "outputs": [
    {
     "data": {
      "text/plain": [
       "array([56., 22.])"
      ]
     },
     "execution_count": 10,
     "metadata": {},
     "output_type": "execute_result"
    }
   ],
   "source": [
    "# Применяем с разными флагами\n",
    "\n",
    "# only_outlier=True вернет только выбросы\n",
    "find_anomaly([1, 2 ,3, 3.3, 56, 2, -3, -4, 7, 5, 8, 22], only_outlier=True)\n",
    "\n"
   ]
  },
  {
   "cell_type": "code",
   "execution_count": 20,
   "id": "6feacc59",
   "metadata": {},
   "outputs": [
    {
     "data": {
      "text/plain": [
       "array([ 1. ,  2. ,  3. ,  3.3,  2. , -3. , -4. ,  7. ,  5. ,  8. ])"
      ]
     },
     "execution_count": 20,
     "metadata": {},
     "output_type": "execute_result"
    }
   ],
   "source": [
    "# only_outlier=False вернет данные, исключая выбросы\n",
    "\n",
    "find_anomaly([1, 2 ,3, 3.3, 56, 2, -3, -4, 7, 5, 8, 22], only_outlier=False)\n"
   ]
  },
  {
   "cell_type": "code",
   "execution_count": null,
   "id": "adf45250",
   "metadata": {},
   "outputs": [],
   "source": []
  }
 ],
 "metadata": {
  "kernelspec": {
   "display_name": "Python 3 (ipykernel)",
   "language": "python",
   "name": "python3"
  },
  "language_info": {
   "codemirror_mode": {
    "name": "ipython",
    "version": 3
   },
   "file_extension": ".py",
   "mimetype": "text/x-python",
   "name": "python",
   "nbconvert_exporter": "python",
   "pygments_lexer": "ipython3",
   "version": "3.9.7"
  }
 },
 "nbformat": 4,
 "nbformat_minor": 5
}
